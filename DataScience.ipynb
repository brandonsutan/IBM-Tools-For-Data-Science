{
 "cells": [
  {
   "cell_type": "markdown",
   "id": "8346471f-fc06-418e-9393-175ebe34929b",
   "metadata": {},
   "source": [
    "# Data Science Tools & Ecosystem"
   ]
  },
  {
   "cell_type": "markdown",
   "id": "85a676b6-f649-4719-b5de-b29d11490d02",
   "metadata": {},
   "source": [
    "In this notebook, Data Science Tools and Ecosystem are summarized."
   ]
  },
  {
   "cell_type": "markdown",
   "id": "c0865d96-cb1d-4a03-8e9c-c4ef429d2058",
   "metadata": {},
   "source": [
    "**Objectives:**\n",
    "- List popular languages for Data Science\n",
    "- Some popoluar libraries, APIs, and Datasets\n",
    "- Introduction to RStudio and GitHub\n",
    "- Overview of Data Scicene Categories"
   ]
  },
  {
   "cell_type": "markdown",
   "id": "1d460baf-a721-40dc-920e-e7e66dc11432",
   "metadata": {},
   "source": [
    "Some of the popular languages that Data Scientists use are:\n",
    "1. Python\n",
    "2. R\n",
    "3. SQL\n",
    "4. Java\n",
    "5. Julia\n",
    "6. Scala\n",
    "7. C/C++\n",
    "8. JavaScript\n",
    "9. Go\n",
    "10. SAS"
   ]
  },
  {
   "cell_type": "markdown",
   "id": "81a32a17-3e9a-454b-897d-272c6ccc0e3b",
   "metadata": {},
   "source": [
    "Some of the commonly used libraries used by Data Scientists include:\n",
    "1. Panda\n",
    "2. Numpy\n",
    "3. Matplotlib\n",
    "4. PyTorch\n",
    "5. SciPy\n",
    "6. SciKit-Learn\n",
    "7. TensorFlow\n",
    "    "
   ]
  },
  {
   "cell_type": "markdown",
   "id": "32ee14b3-0a2d-42ac-9deb-0a74b3e5404b",
   "metadata": {
    "tags": []
   },
   "source": [
    "| Data Science Tools |\n",
    "----------------------\n",
    "| RStudio |\n",
    "| Jupyter Notebook |\n",
    "| Visual Studio |"
   ]
  },
  {
   "cell_type": "markdown",
   "id": "1a24661d-7bff-427f-9e87-a7871cf77f6c",
   "metadata": {},
   "source": [
    "### Below are a few examples of evaluating arithmetic expressions in Python"
   ]
  },
  {
   "cell_type": "code",
   "execution_count": 5,
   "id": "8a2f628b-ac0d-4697-a38d-531db889333c",
   "metadata": {
    "tags": []
   },
   "outputs": [
    {
     "name": "stdout",
     "output_type": "stream",
     "text": [
      "10\n"
     ]
    }
   ],
   "source": [
    "#  Addition Expression\n",
    "a = 5 + 5\n",
    "print(a)\n"
   ]
  },
  {
   "cell_type": "code",
   "execution_count": 7,
   "id": "5037238d-792d-4f77-ba11-30e7a9771e5a",
   "metadata": {
    "tags": []
   },
   "outputs": [
    {
     "name": "stdout",
     "output_type": "stream",
     "text": [
      "4\n"
     ]
    }
   ],
   "source": [
    "# Subtration Expression\n",
    "b= 10 - 6\n",
    "print(b)"
   ]
  },
  {
   "cell_type": "code",
   "execution_count": 10,
   "id": "4c0bfbb5-c16c-41e5-8072-3bd57d8e8e3a",
   "metadata": {
    "tags": []
   },
   "outputs": [
    {
     "name": "stdout",
     "output_type": "stream",
     "text": [
      "100\n"
     ]
    }
   ],
   "source": [
    "# Multipication Expression\n",
    "c= 10*5*2\n",
    "print (c)"
   ]
  },
  {
   "cell_type": "code",
   "execution_count": 11,
   "id": "4ad79440-b352-4485-a423-23052babc3e5",
   "metadata": {
    "tags": []
   },
   "outputs": [
    {
     "name": "stdout",
     "output_type": "stream",
     "text": [
      "5.0\n"
     ]
    }
   ],
   "source": [
    "# Division Expression\n",
    "d= 10/2\n",
    "print (d)"
   ]
  },
  {
   "cell_type": "code",
   "execution_count": 13,
   "id": "6b949a88-a8d5-40bb-84bd-05b65e74b110",
   "metadata": {
    "tags": []
   },
   "outputs": [
    {
     "name": "stdout",
     "output_type": "stream",
     "text": [
      "25\n"
     ]
    }
   ],
   "source": [
    "# Integral Expressions\n",
    "a = 13\n",
    "b = 12.0\n",
    "  \n",
    "c = a + int(b)\n",
    "print(c)"
   ]
  },
  {
   "cell_type": "code",
   "execution_count": 14,
   "id": "0fa847e6-acf3-4ab9-9a4d-cccae478c4b1",
   "metadata": {
    "tags": []
   },
   "outputs": [
    {
     "name": "stdout",
     "output_type": "stream",
     "text": [
      "2.6\n"
     ]
    }
   ],
   "source": [
    "# Floating Expressions\n",
    "a = 13\n",
    "b = 5\n",
    "  \n",
    "c = a / b\n",
    "print(c)"
   ]
  },
  {
   "cell_type": "code",
   "execution_count": 18,
   "id": "deed1465-ca5b-44e8-8303-f38ad5a1640a",
   "metadata": {
    "tags": []
   },
   "outputs": [
    {
     "name": "stdout",
     "output_type": "stream",
     "text": [
      "True\n"
     ]
    }
   ],
   "source": [
    "\n",
    "# Relational Expressions\n",
    "a = 21\n",
    "b = 13\n",
    "c = 40\n",
    "d = 37\n",
    "  \n",
    "p = (a + b) >= (c - d)\n",
    "print(p)"
   ]
  },
  {
   "cell_type": "code",
   "execution_count": 19,
   "id": "89078c01-257c-4691-85c2-b7495e075cc3",
   "metadata": {
    "tags": []
   },
   "outputs": [
    {
     "data": {
      "text/plain": [
       "17"
      ]
     },
     "execution_count": 19,
     "metadata": {},
     "output_type": "execute_result"
    }
   ],
   "source": [
    "(3*4)+5 #"
   ]
  },
  {
   "cell_type": "code",
   "execution_count": 3,
   "id": "14eb4f53-f35d-48fd-adb5-85e39c08b5e8",
   "metadata": {
    "tags": []
   },
   "outputs": [
    {
     "name": "stdout",
     "output_type": "stream",
     "text": [
      "Enter Minutes 200\n"
     ]
    },
    {
     "name": "stdout",
     "output_type": "stream",
     "text": [
      "Hour : Minute 3  :  20\n"
     ]
    }
   ],
   "source": [
    "# Code to Convert Minute into Hour\n",
    "min = int(input(\"Enter Minutes\"))\n",
    "#This will convert 200 minutes to hours by diving by 60 and min%60 expression remainder for the integer division.\n",
    "print(\"Hour : Minute\", int(min/60), \" : \", min % 60)"
   ]
  },
  {
   "cell_type": "markdown",
   "id": "e6b9f523-3ee8-4ab4-a878-6e693bbaaa73",
   "metadata": {},
   "source": [
    "## Author\n",
    "Brandon Sutan"
   ]
  },
  {
   "cell_type": "code",
   "execution_count": null,
   "id": "244fbcfa-3249-466e-8e04-af792d95c087",
   "metadata": {},
   "outputs": [],
   "source": []
  }
 ],
 "metadata": {
  "kernelspec": {
   "display_name": "Python 3 (ipykernel)",
   "language": "python",
   "name": "python3"
  },
  "language_info": {
   "codemirror_mode": {
    "name": "ipython",
    "version": 3
   },
   "file_extension": ".py",
   "mimetype": "text/x-python",
   "name": "python",
   "nbconvert_exporter": "python",
   "pygments_lexer": "ipython3",
   "version": "3.11.3"
  }
 },
 "nbformat": 4,
 "nbformat_minor": 5
}
